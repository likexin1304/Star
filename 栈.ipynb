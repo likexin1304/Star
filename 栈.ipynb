{
 "cells": [
  {
   "cell_type": "code",
   "execution_count": 1,
   "metadata": {},
   "outputs": [],
   "source": [
    "#线性表(顺序表、链表)描述数据如何存放，栈、队列描述对数据如何操作\n",
    "#栈操作：push、pop、peek(返回栈顶元素)、size、is_empty"
   ]
  },
  {
   "cell_type": "code",
   "execution_count": 18,
   "metadata": {},
   "outputs": [
    {
     "name": "stdout",
     "output_type": "stream",
     "text": [
      "4\n",
      "3\n",
      "2\n",
      "1\n",
      "None\n"
     ]
    }
   ],
   "source": [
    "# coding:utf-8\n",
    "class Stack(object):\n",
    "    \n",
    "    def __init__(self):\n",
    "        #容器为一个空列表（顺序表）\n",
    "        self.__list = []    \n",
    "\n",
    "    def push(self,item):\n",
    "        \"\"\"添加一个新的元素item到栈顶\"\"\"\n",
    "        self.__list.append(item)    #顺序表：尾插时间复杂度O(1),头插为O(N)；链表：则是采用头插时间复杂度为O(1)，尾插为O(N)\n",
    "\n",
    "    def pop(self):\n",
    "        \"\"\"弹出栈顶元素\"\"\"\n",
    "        return self.__list.pop()\n",
    "\n",
    "    def peek(self):\n",
    "        \"\"\"返回栈顶元素\"\"\"\n",
    "        if self.__list:   #不为空返回列表最后一个元素\n",
    "            return self.__list[-1] \n",
    "        else:\n",
    "            return None\n",
    "\n",
    "    def is_empty(self):\n",
    "        \"\"\"判断栈是否为空\"\"\"\n",
    "        #return self.__list == []\n",
    "        return not self.__list\n",
    "\n",
    "    def size(self):\n",
    "        \"\"\"返回栈中元素的个数\"\"\"\n",
    "        return len(self.__list)\n",
    "\n",
    "if __name__ == \"__main__\":\n",
    "    s = Stack()    #创建栈实例对象\n",
    "    s.push(1)\n",
    "    s.push(2)\n",
    "    s.push(3)\n",
    "    s.push(4)\n",
    "    print(s.pop())\n",
    "    print(s.pop())    \n",
    "    print(s.pop())    \n",
    "    print(s.pop())    \n",
    "    print(s.peek())"
   ]
  },
  {
   "cell_type": "code",
   "execution_count": 22,
   "metadata": {},
   "outputs": [
    {
     "name": "stdout",
     "output_type": "stream",
     "text": [
      "3\n",
      "itcast\n",
      "itcast\n",
      "world\n",
      "hello\n",
      "None\n"
     ]
    }
   ],
   "source": [
    "class Stack(object):\n",
    "    def __init__(self):\n",
    "        self.items = []\n",
    "        \n",
    "    def push(self,item):\n",
    "        self.items.append(item)\n",
    "        \n",
    "    def pop(self):\n",
    "        return self.items.pop()\n",
    "        \n",
    "    def peek(self):\n",
    "        if self.items:\n",
    "            return self.items[-1]\n",
    "        else:\n",
    "            return None\n",
    "        \n",
    "    def isEmpty(self):\n",
    "        return self.items == []\n",
    "        \n",
    "    def size(self):\n",
    "        return len(self.items)\n",
    "    \n",
    "    \n",
    "if __name__ == \"__main__\":\n",
    "    stack = Stack()\n",
    "    stack.push(\"hello\")\n",
    "    stack.push(\"world\")\n",
    "    stack.push(\"itcast\")\n",
    "    print(stack.size())\n",
    "    print(stack.peek())\n",
    "    print(stack.pop())\n",
    "    print(stack.pop())\n",
    "    print(stack.pop())\n",
    "    print(stack.peek())"
   ]
  },
  {
   "cell_type": "code",
   "execution_count": null,
   "metadata": {},
   "outputs": [],
   "source": []
  }
 ],
 "metadata": {
  "kernelspec": {
   "display_name": "Python 3",
   "language": "python",
   "name": "python3"
  },
  "language_info": {
   "codemirror_mode": {
    "name": "ipython",
    "version": 3
   },
   "file_extension": ".py",
   "mimetype": "text/x-python",
   "name": "python",
   "nbconvert_exporter": "python",
   "pygments_lexer": "ipython3",
   "version": "3.7.4"
  }
 },
 "nbformat": 4,
 "nbformat_minor": 2
}
